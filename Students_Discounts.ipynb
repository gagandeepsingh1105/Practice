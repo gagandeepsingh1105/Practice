{
 "cells": [
  {
   "cell_type": "code",
   "execution_count": 1,
   "metadata": {},
   "outputs": [],
   "source": [
    "import json\n",
    "import pandas as pd\n",
    "import numpy as np\n",
    "from dateutil.parser import parse\n",
    "with open('Input_Game_Events.json') as f:\n",
    "    org=json.load(f)\n",
    "alist=[[[i['eventId'],i['studentId'],'DH' if i['playsetType']=='H' else 'DS',np.sum([(parse(k['roundEndTime'])-parse(k['roundStartTime'])).days*24*60+(parse(k['roundEndTime'])-parse(k['roundStartTime'])).seconds/60 for k in i['data']]),np.sum(len(j['responseText'])for j in i['data']), np.sum(1 if k['targetText'][0] in k['responseText'] else 0 for k in i['data'])] for i in tmp_dict] for tmp_dict in org.values()]\n",
    "col_list=['EventId','StudentId','EventType','PlayMinutes','NoOfResponses','NoOfSuccessfulResponse']\n",
    "df_stud_event=pd.DataFrame(alist[0],columns=col_list)\n",
    "df_stud_event\n",
    "df_stud_event.to_csv('Output_Games_Events_Discounts.txt',index=False)"
   ]
  },
  {
   "cell_type": "code",
   "execution_count": 20,
   "metadata": {},
   "outputs": [
    {
     "data": {
      "text/plain": [
       "DiscountMinutes   -3.0\n",
       "Name: min, dtype: float64"
      ]
     },
     "execution_count": 20,
     "metadata": {},
     "output_type": "execute_result"
    }
   ],
   "source": [
    "import pandas as pd\n",
    "import numpy as np\n",
    "def calc_discount(row):\n",
    "    if row['EventType']=='DH' and row['PlaysetType']=='H':\n",
    "        return row['DiscountMinutes']+row['PlayMinutes']\n",
    "    if row['EventType']=='DH' and row['PlaysetType']=='S':\n",
    "        return row['DiscountMinutes']-row['PlayMinutes']\n",
    "    if row['EventType']=='DS' and row['PlaysetType']=='H':\n",
    "        return row['DiscountMinutes']-row['PlayMinutes']\n",
    "    if row['EventType']=='DS' and row['PlaysetType']=='S':\n",
    "        return row['DiscountMinutes']+row['PlayMinutes']\n",
    "    \n",
    "df_stud=pd.read_csv('Input_Start_Student_Discounts.txt')\n",
    "df_event=pd.read_csv('Output_Games_Events_discounts.txt')\n",
    "df_stud_evnt=df_stud.join(df_event.set_index('StudentId'),on='StudentId',how='inner')[['StudentId','PlaysetNumber','PlaysetType','DiscountMinutes','EventType','PlayMinutes']]\n",
    "df_stud_evnt['DiscountMinutes']=df_stud_evnt.apply(calc_discount,axis=1)\n",
    "df_final=df_stud_evnt.groupby(['StudentId','PlaysetNumber','PlaysetType'],as_index=False).DiscountMinutes.agg('sum')\n",
    "df_min_max=df_final.agg({'DiscountMinutes':['max','min']})\n",
    "df_final.to_csv('Output_End_Students_Discounts.txt',index=False)"
   ]
  },
  {
   "cell_type": "code",
   "execution_count": 32,
   "metadata": {},
   "outputs": [
    {
     "data": {
      "text/html": [
       "<div>\n",
       "<style>\n",
       "    .dataframe thead tr:only-child th {\n",
       "        text-align: right;\n",
       "    }\n",
       "\n",
       "    .dataframe thead th {\n",
       "        text-align: left;\n",
       "    }\n",
       "\n",
       "    .dataframe tbody tr th {\n",
       "        vertical-align: top;\n",
       "    }\n",
       "</style>\n",
       "<table border=\"1\" class=\"dataframe\">\n",
       "  <thead>\n",
       "    <tr style=\"text-align: right;\">\n",
       "      <th></th>\n",
       "      <th>StudentId</th>\n",
       "    </tr>\n",
       "  </thead>\n",
       "  <tbody>\n",
       "    <tr>\n",
       "      <th>4</th>\n",
       "      <td>AS000200</td>\n",
       "    </tr>\n",
       "    <tr>\n",
       "      <th>6</th>\n",
       "      <td>MS000100</td>\n",
       "    </tr>\n",
       "  </tbody>\n",
       "</table>\n",
       "</div>"
      ],
      "text/plain": [
       "  StudentId\n",
       "4  AS000200\n",
       "6  MS000100"
      ]
     },
     "execution_count": 32,
     "metadata": {},
     "output_type": "execute_result"
    }
   ],
   "source": [
    "df_final[(df_final['DiscountMinutes']==df_final['DiscountMinutes'].max()) | (df_final['DiscountMinutes']==df_final['DiscountMinutes'].min())][['StudentId']]"
   ]
  },
  {
   "cell_type": "code",
   "execution_count": null,
   "metadata": {
    "collapsed": true
   },
   "outputs": [],
   "source": []
  }
 ],
 "metadata": {
  "kernelspec": {
   "display_name": "Python 3",
   "language": "python",
   "name": "python3"
  },
  "language_info": {
   "codemirror_mode": {
    "name": "ipython",
    "version": 3
   },
   "file_extension": ".py",
   "mimetype": "text/x-python",
   "name": "python",
   "nbconvert_exporter": "python",
   "pygments_lexer": "ipython3",
   "version": "3.6.3"
  }
 },
 "nbformat": 4,
 "nbformat_minor": 2
}
